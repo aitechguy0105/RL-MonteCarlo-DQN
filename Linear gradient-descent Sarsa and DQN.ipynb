{
 "cells": [
  {
   "cell_type": "markdown",
   "metadata": {},
   "source": [
    "# Linear gradient-descent Sarsa and DQN\n",
    "\n",
    "###  Mountain Car \n",
    "\n",
    "The implementation of `MountainCar` is based on the problem description given in [Example 8.2](http://www.incompleteideas.net/book/ebook/node89.html) of Sutton & Barto (1998) The following cells in this section will walk you through the basic usage of this class."
   ]
  },
  {
   "cell_type": "code",
   "execution_count": 2,
   "metadata": {},
   "outputs": [],
   "source": [
    "import numpy as np\n",
    "import mountaincar"
   ]
  },
  {
   "cell_type": "markdown",
   "metadata": {},
   "source": [
    "## Linear gradient-descent Sarsa using tile coding\n",
    "\n",
    "The pseudo-code for  _Linear, gradient-descent Sarsa($\\lambda$)_ is reproduced below from the textbook (Reinforcement Learning, Sutton & Barto, 1998, [Section 8.4](http://www.incompleteideas.net/book/ebook/node89.html#fig:FAsarsa).\n",
    "<img src=\"images/gradient_descent_Sarsa.png\" style=\"width: 500px;\"/>"
   ]
  },
  {
   "cell_type": "code",
   "execution_count": 13,
   "metadata": {},
   "outputs": [],
   "source": [
    "# Please write your code in this cell. You can add additional code cells below this one, if you would like to.\n",
    "# ...\n",
    "import matplotlib.pyplot as plt\n",
    "\n",
    "class tile_coder:\n",
    "    def __init__(self, \n",
    "                 num_tiles = 9, \n",
    "                 num_tilings = 10, \n",
    "                 min_X = env.position_min, \n",
    "                 max_X = env.position_max, \n",
    "                 min_Y = env.velocity_min, \n",
    "                 max_Y = env.velocity_max):\n",
    "        self.min_X = min_X\n",
    "        self.max_X = max_X\n",
    "        self.min_Y = min_Y\n",
    "        self.max_Y = max_Y\n",
    "        self.num_tiles = num_tiles\n",
    "        self.num_tilings = num_tilings\n",
    "        self.tile_width = (self.max_X - self.min_X) / (self.num_tiles - 1)\n",
    "        self.tile_height = (self.max_Y - self.min_Y) / (self.num_tiles - 1)\n",
    "        self.offset_X = self.tile_width / (self.num_tiles - 1)\n",
    "        self.offset_Y = self.tile_height / (self.num_tiles - 1)\n",
    "        \n",
    "    def get_indice(self, position, velocity, action):\n",
    "        indices = [0] * self.num_tilings\n",
    "        position -= self.min_X\n",
    "        velocity -= self.min_Y\n",
    "        for tiling in range(self.num_tilings):\n",
    "            new_x = int(position / self.tile_width)\n",
    "            new_y = int(velocity / self.tile_height)\n",
    "            index = (new_y * self.num_tiles + new_x) + tiling * self.num_tiles * self.num_tiles\n",
    "            index = index + action * tiling * self.num_tiles * self.num_tiles\n",
    "            indices[tiling] = index\n",
    "            \n",
    "            position += self.offset_X\n",
    "            velocity += self.offset_Y\n",
    "            \n",
    "        return indices \n",
    "\n",
    "    \n",
    "class Linear_GD_Sarsa_Agent:\n",
    "    def __init__(self, alpha = 0.01, greedy = 0.1, gamma = 1, lambada = 0.9):\n",
    "        self.alpha = alpha\n",
    "        self.greedy = greedy\n",
    "        self.gamma = gamma\n",
    "        self.lambada = lambada\n",
    "        self.theta = np.zeros(3000)\n",
    "        \n",
    "    def choose_action(self, tile, env, enable_greedy = True):\n",
    "        # enable_greedy = False is used for test only, never make the non-greedy move\n",
    "        # default as True, have a probability to make the non-greedy move\n",
    "        if enable_greedy:\n",
    "            if np.random.rand(1) >= self.greedy:\n",
    "                # choose greedy action\n",
    "                q = {}\n",
    "                for action in env.actions:\n",
    "                    features_vector = tile.get_indice(env.position, env.velocity, action)\n",
    "                    q[action] = self.theta[features_vector].sum()\n",
    "                max_q = np.array([q[key] for key in q.keys()]).max()\n",
    "                chosen_action = np.random.choice([key for key in q.keys() if q[key]==max_q])\n",
    "                q_value = q[chosen_action]\n",
    "            else:\n",
    "                # choose not greedy action\n",
    "                chosen_action = np.random.choice(env.actions)\n",
    "                features_vector = tile.get_indice(env.position, env.velocity, chosen_action)\n",
    "                q_value = self.theta[features_vector].sum() \n",
    "        else:\n",
    "            # always choose greedy action\n",
    "            q = {}\n",
    "            for action in env.actions:\n",
    "                features_vector = tile.get_indice(env.position, env.velocity, action)\n",
    "                q[action] = self.theta[features_vector].sum()\n",
    "            max_q = np.array([q[key] for key in q.keys()]).max()\n",
    "            chosen_action = np.random.choice([key for key in q.keys() if q[key]==max_q])\n",
    "            q_value = q[chosen_action]\n",
    "\n",
    "        return chosen_action, q_value\n",
    "    \n",
    "    def learn(self, delta, e):\n",
    "        self.theta = self.theta + self.alpha * delta * e\n",
    "        \n",
    "\n",
    "def simulate_Linear_GD_Sarsa(agent, env, episodes, trace_type = 'accumulating'):\n",
    "    # trace_type means the eligibility tracing type, either accumulating or replacing\n",
    "    # default as accumulating\n",
    "    reward_ret = np.zeros(episodes)\n",
    "    \n",
    "    for episode in range(1, episodes+1):\n",
    "        total_reward = 0\n",
    "        env.reset()\n",
    "        e = np.zeros(agent.theta.shape)\n",
    "        # choose the initial action randomly\n",
    "        current_action = agent.choose_action(tile, env)[0]\n",
    "        features_vector = tile.get_indice(env.position, env.velocity, current_action)\n",
    "        # for each step, learn\n",
    "        while env.game_over == False:\n",
    "            if trace_type == 'accumulating':   #accumulating trace\n",
    "                e[features_vector] += 1\n",
    "            elif trace_type == 'replacing':   #replacing trace\n",
    "                e[features_vector] = 1\n",
    "            else:\n",
    "                raise ValueError(\"The tracing type %s should be either 'accumulating' or 'replacing'\" \\\n",
    "                                 % trace_type)\n",
    "                \n",
    "            reward = env.make_step(current_action)\n",
    "            total_reward += reward\n",
    "            delta = reward - agent.theta[features_vector].sum()\n",
    "            next_action, q_value = agent.choose_action(tile, env)\n",
    "            delta = delta + agent.gamma * q_value\n",
    "            agent.learn(delta, e)\n",
    "            e = agent.gamma * agent.lambada * e\n",
    "            # update for next step\n",
    "            current_action = next_action\n",
    "            features_vector = tile.get_indice(env.position, env.velocity, current_action)\n",
    "        \n",
    "        reward_ret[episode-1] = total_reward\n",
    "        \n",
    "    return reward_ret"
   ]
  },
  {
   "cell_type": "code",
   "execution_count": 14,
   "metadata": {},
   "outputs": [],
   "source": [
    "# initial parameters\n",
    "num_tiles = 9\n",
    "num_tilings = 10\n",
    "\n",
    "tile = tile_coder(num_tiles = num_tiles, num_tilings = num_tilings)\n",
    "agent_1 = Linear_GD_Sarsa_Agent(alpha = 0.1/num_tilings, greedy = 0.1, gamma = 1, lambada = 0.9)\n",
    "env = mountaincar.MountainCar()\n",
    "episodes = 5000\n",
    "ret = simulate_Linear_GD_Sarsa(agent_1, env, episodes, trace_type = 'accumulating')"
   ]
  },
  {
   "cell_type": "code",
   "execution_count": 15,
   "metadata": {},
   "outputs": [
    {
     "name": "stdout",
     "output_type": "stream",
     "text": [
      "Starting position of the car -0.454704306550481\n",
      "Starting velocity of the car 0.03128512489633177\n",
      "It takes 93 steps to reach the top.\n"
     ]
    }
   ],
   "source": [
    "# test for how many steps it takes to reach the top if all the action is greedy\n",
    "np.random.seed(7)\n",
    "env = mountaincar.MountainCar()\n",
    "env.reset()\n",
    "print(\"Starting position of the car\", env.position)\n",
    "print(\"Starting velocity of the car\", env.velocity)\n",
    "num_steps = 10000 # large enough for the game ended\n",
    "for step in range(num_steps):\n",
    "    # Always action 1 (full throttle forward)\n",
    "    action, _ = agent_1.choose_action(tile, env, enable_greedy = False)\n",
    "    env.make_step(action=action)\n",
    "    # env.plot()\n",
    "    if env.game_over:\n",
    "        print('It takes', step, 'steps to reach the top.')\n",
    "        break      "
   ]
  },
  {
   "cell_type": "markdown",
   "metadata": {
    "deletable": false,
    "nbgrader": {
     "checksum": "0e6876eaaf6b2a30ed8b4f16988e03ed",
     "grade": true,
     "grade_id": "cell-13765e8707846b42",
     "locked": false,
     "points": 50,
     "schema_version": 1,
     "solution": true
    }
   },
   "source": []
  },
  {
   "cell_type": "code",
   "execution_count": 16,
   "metadata": {},
   "outputs": [
    {
     "data": {
      "image/png": "[encoded data removed]",
      "text/plain": [
       "<matplotlib.figure.Figure at 0x11b160f28>"
      ]
     },
     "metadata": {},
     "output_type": "display_data"
    }
   ],
   "source": [
    "fig = plt.figure(figsize=(8, 6))\n",
    "plt.plot(np.arange(episodes), ret, color = 'r')\n",
    "plt.xlabel('Episodes')\n",
    "plt.ylabel('Reward for each episode')\n",
    "plt.title('The learning curve training 5000 times')\n",
    "plt.show()"
   ]
  },
  {
   "cell_type": "markdown",
   "metadata": {},
   "source": [
    "## Deep Q Network (DQN)"
   ]
  },
  {
   "cell_type": "code",
   "execution_count": 18,
   "metadata": {},
   "outputs": [],
   "source": [
    "# Please write your code in this cell. You can add additional code cells below this one, if you would like to.\n",
    "# ...\n",
    "import random\n",
    "from collections import deque\n",
    "from keras.models import Sequential\n",
    "from keras.layers import Dense\n",
    "from keras.optimizers import Adam\n",
    "\n",
    "class DQN_Agent:\n",
    "    def __init__(self, alpha = 0.1, greedy = 0.1, gamma = 1):\n",
    "        self.memory = deque(maxlen=2000)\n",
    "        self.alpha = alpha\n",
    "        self.greedy = greedy \n",
    "        self.gamma = gamma\n",
    "        self.model = self._build_model()\n",
    "\n",
    "    def _build_model(self):\n",
    "        # Neural Net for Deep-Q learning Model\n",
    "        model = Sequential()\n",
    "        model.add(Dense(3, input_dim=2, activation='relu'))\n",
    "        model.add(Dense(3))\n",
    "        model.compile(loss='mse', optimizer = Adam(lr=self.alpha))\n",
    "        return model\n",
    "\n",
    "    def remember(self, current_state, action, reward, next_state, game_status):\n",
    "        state = [current_state, action, reward, next_state]\n",
    "        self.memory.append([state, game_status])\n",
    "\n",
    "    def choose_action(self, env, enable_greedy = True):\n",
    "        # enable_greedy = False is used for test only, never make the non-greedy move\n",
    "        # default as True, have a probability to make the non-greedy move\n",
    "        if enable_greedy:\n",
    "            if np.random.rand() < self.greedy:\n",
    "                # choose not greedy action\n",
    "                chosen_action = np.random.choice(env.actions)\n",
    "            else:\n",
    "                # choose greedy action\n",
    "                state = np.array([env.position, env.velocity])\n",
    "                state = np.reshape(state, [1, 2])\n",
    "                act_values = self.model.predict(state)\n",
    "                chosen_action = np.argmax(act_values[0])-1\n",
    "        else:\n",
    "            # always choose greedy action\n",
    "            state = np.array([env.position, env.velocity])\n",
    "            state = np.reshape(state, [1, 2])\n",
    "            act_values = self.model.predict(state)\n",
    "            chosen_action = np.argmax(act_values[0])-1\n",
    "        return chosen_action \n",
    "\n",
    "    def learn(self, batch_size):\n",
    "        # only learn in a batch_size, to reduce the time cost\n",
    "        len_memory = len(self.memory)\n",
    "        num_actions = self.model.output_shape[-1]\n",
    "        env_dim = self.memory[0][0][0].shape[1]\n",
    "        inputs = np.zeros((min(len_memory, batch_size), env_dim))\n",
    "        targets = np.zeros((inputs.shape[0], num_actions))\n",
    "        for i, idx in enumerate(np.random.randint(0, len_memory, size=inputs.shape[0])):\n",
    "            current_state, action, reward, next_state = self.memory[idx][0]\n",
    "            game_status = self.memory[idx][1]\n",
    "            inputs[i:i+1] = current_state\n",
    "            targets[i] = self.model.predict(current_state)[0]\n",
    "            max_q = np.max(self.model.predict(next_state)[0])\n",
    "            if game_status:\n",
    "                targets[i, action] = reward\n",
    "            else:\n",
    "                targets[i, action] = reward + self.gamma * max_q \n",
    "        self.model.train_on_batch(inputs, targets)\n",
    "\n",
    "        \n",
    "def simulate_DQN(agent, env, episodes, batch_size = 32):\n",
    "    reward_ret = np.zeros(episodes)\n",
    "    for episode in range(1, episodes+1):\n",
    "        total_reward = 0\n",
    "        # use a random seed to make the reset state is near to the test start state, since the training\n",
    "        # episodes is not enough, to reduce the learning cost\n",
    "        np.random.seed(1)\n",
    "        env.reset()\n",
    "        current_state = np.array([env.position, env.velocity])\n",
    "        current_state = np.reshape(current_state, [1, 2])\n",
    "        # for each step, learn\n",
    "        while env.game_over == False:\n",
    "            action = agent.choose_action(env)\n",
    "            reward = env.make_step(action)\n",
    "            total_reward += reward\n",
    "            next_state = np.array([env.position, env.velocity])\n",
    "            next_state = np.reshape(next_state, [1, 2])\n",
    "            game_status = env.game_over\n",
    "            agent.remember(current_state, action, reward, next_state, game_status)\n",
    "            current_state = next_state\n",
    "            agent.learn(batch_size)   \n",
    "    \n",
    "        reward_ret[episode-1] = total_reward/episode\n",
    "        \n",
    "        percent = 100*episode/episodes\n",
    "        if percent%5 == 0:\n",
    "            print('Train',percent,'% percentage')\n",
    "        \n",
    "    return reward_ret"
   ]
  },
  {
   "cell_type": "code",
   "execution_count": 19,
   "metadata": {},
   "outputs": [
    {
     "name": "stdout",
     "output_type": "stream",
     "text": [
      "Train 5.0 % percentage\n",
      "Train 10.0 % percentage\n",
      "Train 15.0 % percentage\n",
      "Train 20.0 % percentage\n",
      "Train 25.0 % percentage\n",
      "Train 30.0 % percentage\n",
      "Train 35.0 % percentage\n",
      "Train 40.0 % percentage\n",
      "Train 45.0 % percentage\n",
      "Train 50.0 % percentage\n",
      "Train 55.0 % percentage\n",
      "Train 60.0 % percentage\n",
      "Train 65.0 % percentage\n",
      "Train 70.0 % percentage\n",
      "Train 75.0 % percentage\n",
      "Train 80.0 % percentage\n",
      "Train 85.0 % percentage\n",
      "Train 90.0 % percentage\n",
      "Train 95.0 % percentage\n",
      "Train 100.0 % percentage\n"
     ]
    }
   ],
   "source": [
    "agent_2 = DQN_Agent(alpha = 0.01, greedy = 0.1, gamma = 1)\n",
    "env = mountaincar.MountainCar()\n",
    "episodes = 20\n",
    "ret = simulate_DQN(agent_2, env, episodes, batch_size = 10)"
   ]
  },
  {
   "cell_type": "markdown",
   "metadata": {
    "deletable": false,
    "nbgrader": {
     "checksum": "b3bb13522fc810fe1cd984ce0825a666",
     "grade": true,
     "grade_id": "cell-4fc1516337f6c8b8",
     "locked": false,
     "points": 50,
     "schema_version": 1,
     "solution": true
    }
   },
   "source": []
  },
  {
   "cell_type": "code",
   "execution_count": 20,
   "metadata": {},
   "outputs": [
    {
     "data": {
      "image/png": "[encoded data removed]",
      "text/plain": [
       "<matplotlib.figure.Figure at 0x1829587c88>"
      ]
     },
     "metadata": {},
     "output_type": "display_data"
    }
   ],
   "source": [
    "fig = plt.figure(figsize=(8, 6))\n",
    "plt.plot(np.arange(episodes), ret, color = 'r')\n",
    "plt.xlabel('Episodes')\n",
    "plt.ylabel('Accumulative rewards / Episode')\n",
    "plt.title('The average learning curve training 20 times')\n",
    "plt.show()"
   ]
  },
  {
   "cell_type": "code",
   "execution_count": null,
   "metadata": {},
   "outputs": [],
   "source": []
  }
 ],
 "metadata": {
  "kernelspec": {
   "display_name": "Python 3",
   "language": "python",
   "name": "python3"
  },
  "language_info": {
   "codemirror_mode": {
    "name": "ipython",
    "version": 3
   },
   "file_extension": ".py",
   "mimetype": "text/x-python",
   "name": "python",
   "nbconvert_exporter": "python",
   "pygments_lexer": "ipython3",
   "version": "3.6.2"
  }
 },
 "nbformat": 4,
 "nbformat_minor": 2
}
